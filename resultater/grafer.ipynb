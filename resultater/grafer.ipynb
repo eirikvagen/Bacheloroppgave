{
 "cells": [
  {
   "cell_type": "code",
   "execution_count": null,
   "metadata": {},
   "outputs": [],
   "source": [
    "import pandas as pd\n",
    "import numpy as np\n",
    "import matplotlib.pyplot as plt\n",
    "from mpl_toolkits.mplot3d import Axes3D\n",
    "import matplotlib.cm as cm"
   ]
  },
  {
   "attachments": {},
   "cell_type": "markdown",
   "metadata": {},
   "source": [
    "Resultatet som skal analyseres puttes inn i read.csv"
   ]
  },
  {
   "cell_type": "code",
   "execution_count": null,
   "metadata": {},
   "outputs": [],
   "source": [
    "df = pd.read_csv('1015_25-75_150-250_aplhavalues.csv', index_col=0)\n",
    "navn = 'Alpha Values 2010-2015'  "
   ]
  },
  {
   "attachments": {},
   "cell_type": "markdown",
   "metadata": {},
   "source": [
    "Ulike grafer for å visualisere resultater"
   ]
  },
  {
   "cell_type": "code",
   "execution_count": null,
   "metadata": {},
   "outputs": [],
   "source": [
    "x = df.columns\n",
    "y = df.index\n",
    "X, Y = np.meshgrid(x, y)\n",
    "Z = df\n",
    "\n",
    "X = np.asarray(X, dtype=np.float64)\n",
    "Y = np.asarray(Y, dtype=np.float64)\n",
    "Z = np.asarray(Z, dtype=np.float64)\n",
    "\n",
    "fig = plt.figure()\n",
    "plt.title(navn)\n",
    "ax = fig.add_subplot(111, projection='3d')\n",
    "\n",
    "# Set the aspect ratio to 2:1 (width:height)\n",
    "ax.set_box_aspect((2, 2, 1))\n",
    "\n",
    "# Normalize Z values for color mapping\n",
    "norm = plt.Normalize(Z.min(), Z.max())\n",
    "colors = cm.plasma_r(norm(Z))\n",
    "\n",
    "surf = ax.plot_surface(X, Y, Z, facecolors=colors, cmap=cm.plasma_r)\n",
    "mappable = cm.ScalarMappable(norm=norm, cmap=cm.plasma_r)\n",
    "mappable.set_array(Z)\n",
    "cb = fig.colorbar(surf, orientation=\"horizontal\", pad = -0.001)\n",
    "\n",
    "plt.subplots_adjust(left=0, right=1, bottom=0, top=1)\n",
    "plt.ion()\n",
    "plt.show()\n"
   ]
  },
  {
   "cell_type": "code",
   "execution_count": null,
   "metadata": {},
   "outputs": [],
   "source": [
    "x = df.columns\n",
    "y = df.index\n",
    "X, Y = np.meshgrid(x, y)\n",
    "Z = df\n",
    "\n",
    "X = np.asarray(X, dtype=np.float64)\n",
    "Y = np.asarray(Y, dtype=np.float64)\n",
    "Z = np.asarray(Z, dtype=np.float64)\n",
    "\n",
    "fig = plt.figure()\n",
    "plt.title(navn)\n",
    "ax = fig.add_subplot(111, projection='3d')\n",
    "norm = plt.Normalize(Z.min(), Z.max())\n",
    "colors = cm.plasma_r(norm(Z))\n",
    "ax.plot_surface(X, Y, Z, facecolors=colors, cmap=cm.plasma_r)\n",
    "\n",
    "# Set the viewing angle to view directly from above\n",
    "ax.view_init(elev=10, azim=45)\n",
    "\n",
    "mappable = cm.ScalarMappable(norm=norm, cmap=cm.plasma_r)\n",
    "mappable.set_array(Z)\n",
    "fig.colorbar(mappable)\n",
    "\n",
    "plt.show()"
   ]
  },
  {
   "cell_type": "code",
   "execution_count": null,
   "metadata": {},
   "outputs": [],
   "source": [
    "values = df.iloc[1:, 1:].values.flatten()\n",
    "mean = np.mean(values)\n",
    "percentiles = np.percentile(values, [5, 25, 50, 75, 95])\n",
    "\n",
    "# Plot histogram, bins er antall bokser\n",
    "plt.hist(values, bins=50)\n",
    "plt.xlabel('Verdi')\n",
    "plt.ylabel('Frekvens')\n",
    "plt.title(f'Histogram av {navn}')\n",
    "\n",
    "colors = ['#53777A', '#8C1C13', '#BE6E46', '#212F45', '#FFA62B']\n",
    "\n",
    "plt.axvline(percentiles[0], color=colors[0], linestyle='-', label='5th percentile')\n",
    "plt.axvline(percentiles[1], color=colors[1], linestyle='-', label='25th percentile')\n",
    "plt.axvline(percentiles[2], color=colors[2], linestyle='-', label='50th percentile')\n",
    "plt.axvline(percentiles[3], color=colors[3], linestyle='-', label='75th percentile')\n",
    "plt.axvline(percentiles[4], color=colors[4], linestyle='-', label='95th percentile')\n",
    "plt.legend()\n",
    "\n",
    "plt.show()\n"
   ]
  },
  {
   "cell_type": "code",
   "execution_count": null,
   "metadata": {},
   "outputs": [],
   "source": [
    "values = df.iloc[1:, 1:].values.flatten()\n",
    "\n",
    "plt.hist(values, bins=50)\n",
    "plt.xlabel('Verdi')\n",
    "plt.ylabel('Frekvens')\n",
    "plt.title(f'Histogram av {navn}')\n",
    "\n",
    "plt.show()"
   ]
  },
  {
   "cell_type": "code",
   "execution_count": null,
   "metadata": {},
   "outputs": [],
   "source": [
    "x = df.columns\n",
    "y = df.index\n",
    "X, Y = np.meshgrid(x, y)\n",
    "Z = df\n",
    "\n",
    "X = np.asarray(X, dtype=np.float64)\n",
    "Y = np.asarray(Y, dtype=np.float64)\n",
    "Z = np.asarray(Z, dtype=np.float64)\n",
    "\n",
    "fig = plt.figure()\n",
    "plt.title(navn)\n",
    "ax = fig.add_subplot(111, projection='3d')\n",
    "norm = plt.Normalize(Z.min(), Z.max())\n",
    "colors = cm.plasma_r(norm(Z))\n",
    "ax.plot_surface(X, Y, Z, facecolors=colors, cmap=cm.plasma_r)\n",
    "\n",
    "# Set the viewing angle to view directly from above\n",
    "ax.view_init(elev=90, azim=0)\n",
    "\n",
    "# Remove the z-axis ticks and tick labels\n",
    "ax.set_zticks([])\n",
    "ax.set_zticklabels([])\n",
    "mappable = cm.ScalarMappable(norm=norm, cmap=cm.plasma_r)\n",
    "mappable.set_array(Z)\n",
    "fig.colorbar(mappable)\n",
    "\n",
    "plt.show()"
   ]
  }
 ],
 "metadata": {
  "language_info": {
   "name": "python"
  },
  "orig_nbformat": 4
 },
 "nbformat": 4,
 "nbformat_minor": 2
}
