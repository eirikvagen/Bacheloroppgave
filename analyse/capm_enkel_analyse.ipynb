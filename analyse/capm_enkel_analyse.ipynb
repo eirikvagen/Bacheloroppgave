{
 "cells": [
  {
   "cell_type": "code",
   "execution_count": 1,
   "metadata": {},
   "outputs": [],
   "source": [
    "import pandas as pd\n",
    "import numpy as np\n",
    "from numpy import nan\n",
    "import yfinance as yf\n",
    "import matplotlib.pyplot as plt\n",
    "import pandas_datareader.data as reader\n",
    "import datetime as dt\n",
    "import statsmodels.api as sm\n",
    "import csv\n",
    "from scipy import stats"
   ]
  },
  {
   "attachments": {},
   "cell_type": "markdown",
   "metadata": {},
   "source": [
    "Henter tickers og prishistorikk"
   ]
  },
  {
   "cell_type": "code",
   "execution_count": 2,
   "metadata": {},
   "outputs": [
    {
     "name": "stdout",
     "output_type": "stream",
     "text": [
      "[*********************100%***********************]  69 of 69 completed\n",
      "\n",
      "1 Failed download:\n",
      "- SCHBA.OL: No timezone found, symbol may be delisted\n"
     ]
    }
   ],
   "source": [
    "tickersobx = pd.read_html('https://no.wikipedia.org/wiki/OSEBX-indeksen')[0]\n",
    "tickersobx = tickersobx['Ticker'].to_list()\n",
    "tickersobx = [i.replace('OSE: ','')for i in tickersobx]\n",
    "tickersobx = [i + ('.OL')for i in tickersobx]\n",
    "tickersobx = [i.replace('TIETOO.OL','TIETO.OL')for i in tickersobx]\n",
    "tickersobx = [i.replace('SCHB.OL','SCHBA.OL')for i in tickersobx]\n",
    "tickers_to_remove = ['FJORD.OL', 'SRBANK.OL','NOFI.OL', 'AIRX.OL', 'AKH.OL', 'AGLX.OL']\n",
    "tickersobx = [ticker for ticker in tickersobx if ticker not in tickers_to_remove]\n",
    "#Tidsperiode\n",
    "historie = yf.download(tickersobx, '2015-01-01', '2022-01-01', interval='1d', threads = True)['Adj Close']"
   ]
  },
  {
   "attachments": {},
   "cell_type": "markdown",
   "metadata": {},
   "source": [
    "Lager modellporteføljen"
   ]
  },
  {
   "cell_type": "code",
   "execution_count": 3,
   "metadata": {},
   "outputs": [
    {
     "ename": "FileNotFoundError",
     "evalue": "[Errno 2] No such file or directory: './data_til_analyse/daglige_tall_CAPM.csv'",
     "output_type": "error",
     "traceback": [
      "\u001b[1;31m---------------------------------------------------------------------------\u001b[0m",
      "\u001b[1;31mFileNotFoundError\u001b[0m                         Traceback (most recent call last)",
      "\u001b[1;32mc:\\Users\\ei100\\OneDrive\\Documents\\GitHub\\Bacheloroppgave\\analyse\\capm_enkel_analyse.ipynb Cell 5\u001b[0m in \u001b[0;36m<cell line: 46>\u001b[1;34m()\u001b[0m\n\u001b[0;32m     <a href='vscode-notebook-cell:/c%3A/Users/ei100/OneDrive/Documents/GitHub/Bacheloroppgave/analyse/capm_enkel_analyse.ipynb#W4sZmlsZQ%3D%3D?line=42'>43</a>\u001b[0m logreturnsUtenInnhold\u001b[39m.\u001b[39mindex \u001b[39m=\u001b[39m logreturnsUtenInnhold\u001b[39m.\u001b[39mindex\u001b[39m.\u001b[39mstrftime(\u001b[39m'\u001b[39m\u001b[39m%\u001b[39m\u001b[39mY-\u001b[39m\u001b[39m%\u001b[39m\u001b[39mm-\u001b[39m\u001b[39m%d\u001b[39;00m\u001b[39m'\u001b[39m)\n\u001b[0;32m     <a href='vscode-notebook-cell:/c%3A/Users/ei100/OneDrive/Documents/GitHub/Bacheloroppgave/analyse/capm_enkel_analyse.ipynb#W4sZmlsZQ%3D%3D?line=44'>45</a>\u001b[0m \u001b[39m# Fra odegardsjekk.ipynb, legger inn odegaard-verdier i en df og endrer index til datetime-format\u001b[39;00m\n\u001b[1;32m---> <a href='vscode-notebook-cell:/c%3A/Users/ei100/OneDrive/Documents/GitHub/Bacheloroppgave/analyse/capm_enkel_analyse.ipynb#W4sZmlsZQ%3D%3D?line=45'>46</a>\u001b[0m df \u001b[39m=\u001b[39m pd\u001b[39m.\u001b[39;49mread_csv(\u001b[39m'\u001b[39;49m\u001b[39m./data_til_analyse/daglige_tall_CAPM.csv\u001b[39;49m\u001b[39m'\u001b[39;49m, index_col\u001b[39m=\u001b[39;49m\u001b[39m'\u001b[39;49m\u001b[39mdate\u001b[39;49m\u001b[39m'\u001b[39;49m)\n\u001b[0;32m     <a href='vscode-notebook-cell:/c%3A/Users/ei100/OneDrive/Documents/GitHub/Bacheloroppgave/analyse/capm_enkel_analyse.ipynb#W4sZmlsZQ%3D%3D?line=46'>47</a>\u001b[0m df\u001b[39m.\u001b[39mindex \u001b[39m=\u001b[39m pd\u001b[39m.\u001b[39mto_datetime(df\u001b[39m.\u001b[39mindex, \u001b[39mformat\u001b[39m\u001b[39m=\u001b[39m\u001b[39m'\u001b[39m\u001b[39m%\u001b[39m\u001b[39mY\u001b[39m\u001b[39m%\u001b[39m\u001b[39mm\u001b[39m\u001b[39m%d\u001b[39;00m\u001b[39m'\u001b[39m, errors\u001b[39m=\u001b[39m\u001b[39m'\u001b[39m\u001b[39mcoerce\u001b[39m\u001b[39m'\u001b[39m)\n\u001b[0;32m     <a href='vscode-notebook-cell:/c%3A/Users/ei100/OneDrive/Documents/GitHub/Bacheloroppgave/analyse/capm_enkel_analyse.ipynb#W4sZmlsZQ%3D%3D?line=47'>48</a>\u001b[0m portfolioDF \u001b[39m=\u001b[39m pd\u001b[39m.\u001b[39mDataFrame(columns\u001b[39m=\u001b[39m[\u001b[39m'\u001b[39m\u001b[39mportfolio\u001b[39m\u001b[39m'\u001b[39m], index\u001b[39m=\u001b[39m[\u001b[39m'\u001b[39m\u001b[39mdate\u001b[39m\u001b[39m'\u001b[39m])\n",
      "File \u001b[1;32mc:\\Users\\ei100\\AppData\\Local\\Programs\\Python\\Python310\\lib\\site-packages\\pandas\\util\\_decorators.py:311\u001b[0m, in \u001b[0;36mdeprecate_nonkeyword_arguments.<locals>.decorate.<locals>.wrapper\u001b[1;34m(*args, **kwargs)\u001b[0m\n\u001b[0;32m    305\u001b[0m \u001b[39mif\u001b[39;00m \u001b[39mlen\u001b[39m(args) \u001b[39m>\u001b[39m num_allow_args:\n\u001b[0;32m    306\u001b[0m     warnings\u001b[39m.\u001b[39mwarn(\n\u001b[0;32m    307\u001b[0m         msg\u001b[39m.\u001b[39mformat(arguments\u001b[39m=\u001b[39marguments),\n\u001b[0;32m    308\u001b[0m         \u001b[39mFutureWarning\u001b[39;00m,\n\u001b[0;32m    309\u001b[0m         stacklevel\u001b[39m=\u001b[39mstacklevel,\n\u001b[0;32m    310\u001b[0m     )\n\u001b[1;32m--> 311\u001b[0m \u001b[39mreturn\u001b[39;00m func(\u001b[39m*\u001b[39margs, \u001b[39m*\u001b[39m\u001b[39m*\u001b[39mkwargs)\n",
      "File \u001b[1;32mc:\\Users\\ei100\\AppData\\Local\\Programs\\Python\\Python310\\lib\\site-packages\\pandas\\io\\parsers\\readers.py:680\u001b[0m, in \u001b[0;36mread_csv\u001b[1;34m(filepath_or_buffer, sep, delimiter, header, names, index_col, usecols, squeeze, prefix, mangle_dupe_cols, dtype, engine, converters, true_values, false_values, skipinitialspace, skiprows, skipfooter, nrows, na_values, keep_default_na, na_filter, verbose, skip_blank_lines, parse_dates, infer_datetime_format, keep_date_col, date_parser, dayfirst, cache_dates, iterator, chunksize, compression, thousands, decimal, lineterminator, quotechar, quoting, doublequote, escapechar, comment, encoding, encoding_errors, dialect, error_bad_lines, warn_bad_lines, on_bad_lines, delim_whitespace, low_memory, memory_map, float_precision, storage_options)\u001b[0m\n\u001b[0;32m    665\u001b[0m kwds_defaults \u001b[39m=\u001b[39m _refine_defaults_read(\n\u001b[0;32m    666\u001b[0m     dialect,\n\u001b[0;32m    667\u001b[0m     delimiter,\n\u001b[1;32m   (...)\u001b[0m\n\u001b[0;32m    676\u001b[0m     defaults\u001b[39m=\u001b[39m{\u001b[39m\"\u001b[39m\u001b[39mdelimiter\u001b[39m\u001b[39m\"\u001b[39m: \u001b[39m\"\u001b[39m\u001b[39m,\u001b[39m\u001b[39m\"\u001b[39m},\n\u001b[0;32m    677\u001b[0m )\n\u001b[0;32m    678\u001b[0m kwds\u001b[39m.\u001b[39mupdate(kwds_defaults)\n\u001b[1;32m--> 680\u001b[0m \u001b[39mreturn\u001b[39;00m _read(filepath_or_buffer, kwds)\n",
      "File \u001b[1;32mc:\\Users\\ei100\\AppData\\Local\\Programs\\Python\\Python310\\lib\\site-packages\\pandas\\io\\parsers\\readers.py:575\u001b[0m, in \u001b[0;36m_read\u001b[1;34m(filepath_or_buffer, kwds)\u001b[0m\n\u001b[0;32m    572\u001b[0m _validate_names(kwds\u001b[39m.\u001b[39mget(\u001b[39m\"\u001b[39m\u001b[39mnames\u001b[39m\u001b[39m\"\u001b[39m, \u001b[39mNone\u001b[39;00m))\n\u001b[0;32m    574\u001b[0m \u001b[39m# Create the parser.\u001b[39;00m\n\u001b[1;32m--> 575\u001b[0m parser \u001b[39m=\u001b[39m TextFileReader(filepath_or_buffer, \u001b[39m*\u001b[39m\u001b[39m*\u001b[39mkwds)\n\u001b[0;32m    577\u001b[0m \u001b[39mif\u001b[39;00m chunksize \u001b[39mor\u001b[39;00m iterator:\n\u001b[0;32m    578\u001b[0m     \u001b[39mreturn\u001b[39;00m parser\n",
      "File \u001b[1;32mc:\\Users\\ei100\\AppData\\Local\\Programs\\Python\\Python310\\lib\\site-packages\\pandas\\io\\parsers\\readers.py:934\u001b[0m, in \u001b[0;36mTextFileReader.__init__\u001b[1;34m(self, f, engine, **kwds)\u001b[0m\n\u001b[0;32m    931\u001b[0m     \u001b[39mself\u001b[39m\u001b[39m.\u001b[39moptions[\u001b[39m\"\u001b[39m\u001b[39mhas_index_names\u001b[39m\u001b[39m\"\u001b[39m] \u001b[39m=\u001b[39m kwds[\u001b[39m\"\u001b[39m\u001b[39mhas_index_names\u001b[39m\u001b[39m\"\u001b[39m]\n\u001b[0;32m    933\u001b[0m \u001b[39mself\u001b[39m\u001b[39m.\u001b[39mhandles: IOHandles \u001b[39m|\u001b[39m \u001b[39mNone\u001b[39;00m \u001b[39m=\u001b[39m \u001b[39mNone\u001b[39;00m\n\u001b[1;32m--> 934\u001b[0m \u001b[39mself\u001b[39m\u001b[39m.\u001b[39m_engine \u001b[39m=\u001b[39m \u001b[39mself\u001b[39;49m\u001b[39m.\u001b[39;49m_make_engine(f, \u001b[39mself\u001b[39;49m\u001b[39m.\u001b[39;49mengine)\n",
      "File \u001b[1;32mc:\\Users\\ei100\\AppData\\Local\\Programs\\Python\\Python310\\lib\\site-packages\\pandas\\io\\parsers\\readers.py:1218\u001b[0m, in \u001b[0;36mTextFileReader._make_engine\u001b[1;34m(self, f, engine)\u001b[0m\n\u001b[0;32m   1214\u001b[0m     mode \u001b[39m=\u001b[39m \u001b[39m\"\u001b[39m\u001b[39mrb\u001b[39m\u001b[39m\"\u001b[39m\n\u001b[0;32m   1215\u001b[0m \u001b[39m# error: No overload variant of \"get_handle\" matches argument types\u001b[39;00m\n\u001b[0;32m   1216\u001b[0m \u001b[39m# \"Union[str, PathLike[str], ReadCsvBuffer[bytes], ReadCsvBuffer[str]]\"\u001b[39;00m\n\u001b[0;32m   1217\u001b[0m \u001b[39m# , \"str\", \"bool\", \"Any\", \"Any\", \"Any\", \"Any\", \"Any\"\u001b[39;00m\n\u001b[1;32m-> 1218\u001b[0m \u001b[39mself\u001b[39m\u001b[39m.\u001b[39mhandles \u001b[39m=\u001b[39m get_handle(  \u001b[39m# type: ignore[call-overload]\u001b[39;49;00m\n\u001b[0;32m   1219\u001b[0m     f,\n\u001b[0;32m   1220\u001b[0m     mode,\n\u001b[0;32m   1221\u001b[0m     encoding\u001b[39m=\u001b[39;49m\u001b[39mself\u001b[39;49m\u001b[39m.\u001b[39;49moptions\u001b[39m.\u001b[39;49mget(\u001b[39m\"\u001b[39;49m\u001b[39mencoding\u001b[39;49m\u001b[39m\"\u001b[39;49m, \u001b[39mNone\u001b[39;49;00m),\n\u001b[0;32m   1222\u001b[0m     compression\u001b[39m=\u001b[39;49m\u001b[39mself\u001b[39;49m\u001b[39m.\u001b[39;49moptions\u001b[39m.\u001b[39;49mget(\u001b[39m\"\u001b[39;49m\u001b[39mcompression\u001b[39;49m\u001b[39m\"\u001b[39;49m, \u001b[39mNone\u001b[39;49;00m),\n\u001b[0;32m   1223\u001b[0m     memory_map\u001b[39m=\u001b[39;49m\u001b[39mself\u001b[39;49m\u001b[39m.\u001b[39;49moptions\u001b[39m.\u001b[39;49mget(\u001b[39m\"\u001b[39;49m\u001b[39mmemory_map\u001b[39;49m\u001b[39m\"\u001b[39;49m, \u001b[39mFalse\u001b[39;49;00m),\n\u001b[0;32m   1224\u001b[0m     is_text\u001b[39m=\u001b[39;49mis_text,\n\u001b[0;32m   1225\u001b[0m     errors\u001b[39m=\u001b[39;49m\u001b[39mself\u001b[39;49m\u001b[39m.\u001b[39;49moptions\u001b[39m.\u001b[39;49mget(\u001b[39m\"\u001b[39;49m\u001b[39mencoding_errors\u001b[39;49m\u001b[39m\"\u001b[39;49m, \u001b[39m\"\u001b[39;49m\u001b[39mstrict\u001b[39;49m\u001b[39m\"\u001b[39;49m),\n\u001b[0;32m   1226\u001b[0m     storage_options\u001b[39m=\u001b[39;49m\u001b[39mself\u001b[39;49m\u001b[39m.\u001b[39;49moptions\u001b[39m.\u001b[39;49mget(\u001b[39m\"\u001b[39;49m\u001b[39mstorage_options\u001b[39;49m\u001b[39m\"\u001b[39;49m, \u001b[39mNone\u001b[39;49;00m),\n\u001b[0;32m   1227\u001b[0m )\n\u001b[0;32m   1228\u001b[0m \u001b[39massert\u001b[39;00m \u001b[39mself\u001b[39m\u001b[39m.\u001b[39mhandles \u001b[39mis\u001b[39;00m \u001b[39mnot\u001b[39;00m \u001b[39mNone\u001b[39;00m\n\u001b[0;32m   1229\u001b[0m f \u001b[39m=\u001b[39m \u001b[39mself\u001b[39m\u001b[39m.\u001b[39mhandles\u001b[39m.\u001b[39mhandle\n",
      "File \u001b[1;32mc:\\Users\\ei100\\AppData\\Local\\Programs\\Python\\Python310\\lib\\site-packages\\pandas\\io\\common.py:786\u001b[0m, in \u001b[0;36mget_handle\u001b[1;34m(path_or_buf, mode, encoding, compression, memory_map, is_text, errors, storage_options)\u001b[0m\n\u001b[0;32m    781\u001b[0m \u001b[39melif\u001b[39;00m \u001b[39misinstance\u001b[39m(handle, \u001b[39mstr\u001b[39m):\n\u001b[0;32m    782\u001b[0m     \u001b[39m# Check whether the filename is to be opened in binary mode.\u001b[39;00m\n\u001b[0;32m    783\u001b[0m     \u001b[39m# Binary mode does not support 'encoding' and 'newline'.\u001b[39;00m\n\u001b[0;32m    784\u001b[0m     \u001b[39mif\u001b[39;00m ioargs\u001b[39m.\u001b[39mencoding \u001b[39mand\u001b[39;00m \u001b[39m\"\u001b[39m\u001b[39mb\u001b[39m\u001b[39m\"\u001b[39m \u001b[39mnot\u001b[39;00m \u001b[39min\u001b[39;00m ioargs\u001b[39m.\u001b[39mmode:\n\u001b[0;32m    785\u001b[0m         \u001b[39m# Encoding\u001b[39;00m\n\u001b[1;32m--> 786\u001b[0m         handle \u001b[39m=\u001b[39m \u001b[39mopen\u001b[39;49m(\n\u001b[0;32m    787\u001b[0m             handle,\n\u001b[0;32m    788\u001b[0m             ioargs\u001b[39m.\u001b[39;49mmode,\n\u001b[0;32m    789\u001b[0m             encoding\u001b[39m=\u001b[39;49mioargs\u001b[39m.\u001b[39;49mencoding,\n\u001b[0;32m    790\u001b[0m             errors\u001b[39m=\u001b[39;49merrors,\n\u001b[0;32m    791\u001b[0m             newline\u001b[39m=\u001b[39;49m\u001b[39m\"\u001b[39;49m\u001b[39m\"\u001b[39;49m,\n\u001b[0;32m    792\u001b[0m         )\n\u001b[0;32m    793\u001b[0m     \u001b[39melse\u001b[39;00m:\n\u001b[0;32m    794\u001b[0m         \u001b[39m# Binary mode\u001b[39;00m\n\u001b[0;32m    795\u001b[0m         handle \u001b[39m=\u001b[39m \u001b[39mopen\u001b[39m(handle, ioargs\u001b[39m.\u001b[39mmode)\n",
      "\u001b[1;31mFileNotFoundError\u001b[0m: [Errno 2] No such file or directory: './data_til_analyse/daglige_tall_CAPM.csv'"
     ]
    }
   ],
   "source": [
    "#Lengde på kort og langt glidende gjennomsnitt\n",
    "SMALong = 200\n",
    "SMAKort = 50\n",
    "\n",
    "df_ma50 = historie.rolling(window=SMAKort).mean()\n",
    "df_ma200 = historie.rolling(window=SMALong).mean()\n",
    "df_bool = df_ma50 > df_ma200\n",
    "df_new = df_bool.mask(df_bool == False, np.nan)\n",
    "df_new['innhold'] = df_new.apply(lambda row: ','.join(row.index[row == True]), axis=1)\n",
    "returns = historie.pct_change()\n",
    "logreturns = np.log(1 + returns)\n",
    "logreturns['innhold'] = df_new['innhold']\n",
    "logreturns['summerteLogreturns'] = 0\n",
    "logreturnsUtenInnhold = logreturns.drop('innhold', axis=1)\n",
    "prevInnhold = ''\n",
    "midlertidiglogreturn = 0\n",
    "antHandler = 0\n",
    "\n",
    "for index, row in logreturns.iterrows():\n",
    "\n",
    "    innhold = logreturns.loc[index, 'innhold']\n",
    "    innhold = innhold.split(',')\n",
    "    midlertidiglogreturn = 0\n",
    "\n",
    "    for col_name, cell_value in row.iteritems():\n",
    "\n",
    "        if (col_name in innhold) and (len(innhold) > 1):\n",
    "            midlertidiglogreturn += cell_value/(len(innhold)-1)\n",
    "\n",
    "        # Kjøp\n",
    "        if ((col_name in innhold) and (col_name not in prevInnhold)):\n",
    "            antHandler += 1\n",
    "\n",
    "        # Salg\n",
    "        if ((col_name not in innhold) and (col_name in prevInnhold)):\n",
    "            antHandler += 1\n",
    "\n",
    "    logreturnsUtenInnhold.loc[index, 'summerteLogreturns'] += midlertidiglogreturn\n",
    "    prevInnhold = innhold\n",
    "\n",
    "# Kummulerer logreturns, gjør de om til aritmetisk return\n",
    "logreturnsUtenInnhold['summerteLogreturns'] = np.exp(np.log(1 + logreturnsUtenInnhold['summerteLogreturns']).cumsum())\n",
    "logreturnsUtenInnhold.index = logreturnsUtenInnhold.index.strftime('%Y-%m-%d')\n",
    "\n",
    "# Fra odegardsjekk.ipynb, legger inn odegaard-verdier i en df og endrer index til datetime-format\n",
    "df = pd.read_csv('./data_til_analyse/daglige_tall_CAPM.csv', index_col='date')\n",
    "df.index = pd.to_datetime(df.index, format='%Y%m%d', errors='coerce')\n",
    "portfolioDF = pd.DataFrame(columns=['portfolio'], index=['date'])\n",
    "\n",
    "rows_to_concat = []\n",
    "for index, row in logreturnsUtenInnhold.iterrows():\n",
    "    if index in df.index:\n",
    "        indeks = index\n",
    "        new_row = {indeks: logreturnsUtenInnhold.loc[index,'summerteLogreturns']}\n",
    "        rows_to_concat.append(pd.DataFrame.from_dict(new_row, orient='index', columns=['portfolio']))\n",
    "\n",
    "if rows_to_concat:\n",
    "    portfolioDF = pd.concat([portfolioDF] + rows_to_concat)"
   ]
  },
  {
   "attachments": {},
   "cell_type": "markdown",
   "metadata": {},
   "source": [
    "Kombinerer CAPM-data med modellportefølje for å kunne kjøre regresjonsanalysen "
   ]
  },
  {
   "cell_type": "code",
   "execution_count": null,
   "metadata": {},
   "outputs": [],
   "source": [
    "portfolioDF.index.name = 'date'\n",
    "portfolioDF = portfolioDF.drop('date')\n",
    "portfolioDF = portfolioDF.pct_change()\n",
    "portfolioDF = portfolioDF[SMALong:]\n",
    "df = pd.read_csv('./data_til_analyse/daglige_tall_CAPM.csv', index_col='date')\n",
    "\n",
    "\n",
    "df = df[['SMB', 'HML']]\n",
    "rf = pd.read_csv('./data_til_analyse/rf_daglig.csv', index_col='date')\n",
    "\n",
    "\n",
    "new_df = df.copy()\n",
    "new_df['rf'] = 0\n",
    "\n",
    "\n",
    "# Convert the index to datetime objects\n",
    "df.index = pd.to_datetime(df.index, format='%Y%m%d')\n",
    "rf.index = pd.to_datetime(rf.index, format='%Y-%m-%d')\n",
    "\n",
    "\n",
    "# Merge the two DataFrames based on the index\n",
    "df_mergedPricingFactors = pd.merge(df, rf, left_index=True, right_index=True, how='inner')\n",
    "merged_df = pd.merge(left=df_mergedPricingFactors, right=portfolioDF, left_index=True, right_index=True, how='inner')\n",
    "df_mergedPricingFactors.index = pd.to_datetime(df_mergedPricingFactors.index, format='%Y%m%d')\n",
    "\n",
    "\n",
    "\n",
    "for index, row in portfolioDF.iterrows():\n",
    "    if index in df_mergedPricingFactors.index:\n",
    "        new_row = {'SMB': df_mergedPricingFactors.loc[indeks, 'SMB'], 'HML': df_mergedPricingFactors.loc[indeks, 'HML'], 'rf(1d)':df_mergedPricingFactors.loc[indeks, 'rf(1d)'], 'portfolio':portfolioDF.loc[indeks, 'portfolio']}\n",
    "        new_df = pd.DataFrame(new_row, index=[index], columns=['SMB', 'HML', 'rf(1d)', 'portfolio'])\n",
    "        merged_df = pd.concat([merged_df, new_df])\n",
    "\n",
    "\n",
    "\n",
    "mr = pd.read_csv('./dataset/market_portfolios_daily.csv', index_col='date')\n",
    "mr = mr.drop('date')\n",
    "mr = mr['OSEAX']\n",
    "mr.index = pd.to_datetime(mr.index, format='%Y%m%d')\n",
    "merged_df = pd.merge(left=merged_df, right=mr, left_index=True, right_index=True, how='inner')\n",
    "\n",
    "\n",
    "\n",
    "try:\n",
    "    portfolioDF = portfolioDF.drop('2017-04-13')\n",
    "except KeyError:\n",
    "    print(\"\")\n",
    "try:\n",
    "    portfolioDF = portfolioDF.drop('2004-02-13')\n",
    "except KeyError:\n",
    "    print(\"\")\n",
    "try:\n",
    "    portfolioDF = portfolioDF.drop('2004-02-18')\n",
    "except KeyError:\n",
    "    print(\"\")\n",
    "try:\n",
    "    portfolioDF = portfolioDF.drop('2004-10-01')\n",
    "except KeyError:\n",
    "    print(\"\")\n",
    "try:\n",
    "    portfolioDF = portfolioDF.drop('2005-09-05')\n",
    "except KeyError:\n",
    "    print(\"\")\n",
    "try:\n",
    "    portfolioDF = portfolioDF.drop('2009-04-28')\n",
    "except KeyError:\n",
    "    print(\"\")\n",
    "try:\n",
    "    portfolioDF = portfolioDF.drop('2009-11-25')\n",
    "except KeyError:\n",
    "    print(\"\")\n",
    "    \n",
    "\n",
    "for index, row in portfolioDF.iterrows():\n",
    "    if index in mr.index:\n",
    "        new_row = {'OSEAX' : mr.loc[index], 'SMB': df_mergedPricingFactors.loc[index, 'SMB'], 'HML': df_mergedPricingFactors.loc[index, 'HML'], 'rf(1d)':df_mergedPricingFactors.loc[index, 'rf(1d)'], 'portfolio':portfolioDF.loc[index, 'portfolio']}\n",
    "        new_df = pd.DataFrame(new_row, index=[index], columns=['SMB', 'HML', 'rf(1d)', 'portfolio', 'OSEAX'])\n",
    "        merged_df = pd.concat([merged_df, new_df])\n",
    "merged_df = merged_df.rename(columns={'rf(1d)': 'rf'})"
   ]
  },
  {
   "attachments": {},
   "cell_type": "markdown",
   "metadata": {},
   "source": [
    "OLS regresjon, 3-faktor CAPM"
   ]
  },
  {
   "cell_type": "code",
   "execution_count": null,
   "metadata": {},
   "outputs": [],
   "source": [
    "merged_df['OSEAX'] = merged_df['OSEAX'].astype(float)\n",
    "merged_df['portfolio-rf'] = merged_df.portfolio - merged_df.rf\n",
    "merged_df['MRKT-rf'] = merged_df.OSEAX - merged_df.rf\n",
    "\n",
    "Y = merged_df['portfolio-rf']\n",
    "X = merged_df[['MRKT-rf', 'SMB', 'HML']]\n",
    "\n",
    "X_sm = sm.add_constant(X)\n",
    "\n",
    "model = sm.OLS(Y, X_sm)\n",
    "results = model.fit()\n",
    "results.summary()"
   ]
  },
  {
   "attachments": {},
   "cell_type": "markdown",
   "metadata": {},
   "source": [
    "Test av MLR assumptions"
   ]
  },
  {
   "cell_type": "code",
   "execution_count": null,
   "metadata": {},
   "outputs": [],
   "source": [
    "model = sm.OLS(Y, X).fit()\n",
    "fitted_values = model.fittedvalues\n",
    "X_new = pd.concat([X, fitted_values], axis=1)\n",
    "model_new = sm.OLS(Y, X_new).fit()\n",
    "predicted = model_new.predict(X_new)\n",
    "residuals = model_new.resid\n",
    "\n",
    "plt.scatter(fitted_values, residuals, label='Residualer', s=5)\n",
    "plt.axhline(y=0, color='Black', linestyle='-', label='Null-linje')\n",
    "\n",
    "# fit a first-order polynomial (line) to the data points\n",
    "x = fitted_values\n",
    "y = residuals\n",
    "coefficients = np.polyfit(x, y, 1)\n",
    "line = np.polyval(coefficients, x)\n",
    "\n",
    "# plot the regression line on top of the scatter plot\n",
    "plt.plot(x, line, color='r', label='Regresjons linje')\n",
    "\n",
    "plt.xlabel('Predikerte verdier')\n",
    "plt.ylabel('Residualer')\n",
    "plt.title('Residualer mot predikerte verdier 2015-2022')\n",
    "plt.legend()\n",
    "plt.show()"
   ]
  },
  {
   "cell_type": "code",
   "execution_count": null,
   "metadata": {},
   "outputs": [],
   "source": [
    "plt.hist(residuals, bins=100, density=True, alpha=0.5, color='blue')\n",
    "x = np.linspace(residuals.min(), residuals.max(), 100)\n",
    "mu, std = np.mean(residuals), np.std(residuals)\n",
    "pdf = stats.norm.pdf(x, mu, std)\n",
    "\n",
    "plt.plot(x, pdf, color='red')\n",
    "plt.xlabel('Residualer')\n",
    "plt.ylabel('Frekvens')\n",
    "plt.title('Fordeling av residualene 2010-2015')\n",
    "plt.show()\n"
   ]
  },
  {
   "cell_type": "code",
   "execution_count": null,
   "metadata": {},
   "outputs": [],
   "source": [
    "merged_df = merged_df[['portfolio-rf', 'MRKT-rf', 'SMB', 'HML']]\n",
    "merged_df.corr()"
   ]
  },
  {
   "cell_type": "code",
   "execution_count": null,
   "metadata": {},
   "outputs": [],
   "source": [
    "Y = merged_df['MRKT-rf']\n",
    "X = merged_df[['SMB', 'HML']]\n",
    "\n",
    "X_sm = sm.add_constant(X)\n",
    "\n",
    "model = sm.OLS(Y, X_sm)\n",
    "results = model.fit()\n",
    "vif = 1/(1-results.rsquared)\n",
    "\n",
    "print('VIF:', vif)"
   ]
  },
  {
   "cell_type": "code",
   "execution_count": null,
   "metadata": {},
   "outputs": [],
   "source": [
    "Y = merged_df['SMB']\n",
    "X = merged_df[['MRKT-rf', 'HML']]\n",
    "\n",
    "X_sm = sm.add_constant(X)\n",
    "\n",
    "model = sm.OLS(Y, X_sm)\n",
    "results = model.fit()\n",
    "vif = 1/(1-results.rsquared)\n",
    "\n",
    "print('VIF:', vif)"
   ]
  },
  {
   "cell_type": "code",
   "execution_count": null,
   "metadata": {},
   "outputs": [],
   "source": [
    "Y = merged_df['HML']\n",
    "X = merged_df[['MRKT-rf', 'SMB']]\n",
    "\n",
    "X_sm = sm.add_constant(X)\n",
    "\n",
    "model = sm.OLS(Y, X_sm)\n",
    "results = model.fit()\n",
    "vif = 1/(1-results.rsquared)\n",
    "\n",
    "print('VIF:', vif)"
   ]
  }
 ],
 "metadata": {
  "kernelspec": {
   "display_name": "Python 3",
   "language": "python",
   "name": "python3"
  },
  "language_info": {
   "codemirror_mode": {
    "name": "ipython",
    "version": 3
   },
   "file_extension": ".py",
   "mimetype": "text/x-python",
   "name": "python",
   "nbconvert_exporter": "python",
   "pygments_lexer": "ipython3",
   "version": "3.10.5"
  },
  "orig_nbformat": 4
 },
 "nbformat": 4,
 "nbformat_minor": 2
}
