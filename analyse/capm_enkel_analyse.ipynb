{
 "cells": [
  {
   "cell_type": "code",
   "execution_count": 1,
   "metadata": {},
   "outputs": [],
   "source": [
    "import pandas as pd\n",
    "import numpy as np\n",
    "from numpy import nan\n",
    "import yfinance as yf\n",
    "import matplotlib.pyplot as plt\n",
    "import pandas_datareader.data as reader\n",
    "import datetime as dt\n",
    "import statsmodels.api as sm\n",
    "import csv\n",
    "from scipy import stats"
   ]
  },
  {
   "attachments": {},
   "cell_type": "markdown",
   "metadata": {},
   "source": [
    "Henter tickers og prishistorikk"
   ]
  },
  {
   "cell_type": "code",
   "execution_count": 2,
   "metadata": {},
   "outputs": [
    {
     "name": "stdout",
     "output_type": "stream",
     "text": [
      "[*********************100%***********************]  69 of 69 completed\n",
      "\n",
      "1 Failed download:\n",
      "- SCHBA.OL: No timezone found, symbol may be delisted\n"
     ]
    }
   ],
   "source": [
    "tickersobx = pd.read_html('https://no.wikipedia.org/wiki/OSEBX-indeksen')[0]\n",
    "tickersobx = tickersobx['Ticker'].to_list()\n",
    "tickersobx = [i.replace('OSE: ','')for i in tickersobx]\n",
    "tickersobx = [i + ('.OL')for i in tickersobx]\n",
    "tickersobx = [i.replace('TIETOO.OL','TIETO.OL')for i in tickersobx]\n",
    "tickersobx = [i.replace('SCHB.OL','SCHBA.OL')for i in tickersobx]\n",
    "tickers_to_remove = ['FJORD.OL', 'SRBANK.OL','NOFI.OL', 'AIRX.OL', 'AKH.OL', 'AGLX.OL']\n",
    "tickersobx = [ticker for ticker in tickersobx if ticker not in tickers_to_remove]\n",
    "#Tidsperiode\n",
    "historie = yf.download(tickersobx, '2015-01-01', '2022-01-01', interval='1d', threads = True)['Adj Close']"
   ]
  },
  {
   "attachments": {},
   "cell_type": "markdown",
   "metadata": {},
   "source": [
    "Lager modellporteføljen"
   ]
  },
  {
   "cell_type": "code",
   "execution_count": 7,
   "metadata": {},
   "outputs": [],
   "source": [
    "#Lengde på kort og langt glidende gjennomsnitt\n",
    "SMALong = 200\n",
    "SMAKort = 50\n",
    "\n",
    "df_ma50 = historie.rolling(window=SMAKort).mean()\n",
    "df_ma200 = historie.rolling(window=SMALong).mean()\n",
    "df_bool = df_ma50 > df_ma200\n",
    "df_new = df_bool.mask(df_bool == False, np.nan)\n",
    "df_new['innhold'] = df_new.apply(lambda row: ','.join(row.index[row == True]), axis=1)\n",
    "returns = historie.pct_change()\n",
    "logreturns = np.log(1 + returns)\n",
    "logreturns['innhold'] = df_new['innhold']\n",
    "logreturns['summerteLogreturns'] = 0\n",
    "logreturnsUtenInnhold = logreturns.drop('innhold', axis=1)\n",
    "prevInnhold = ''\n",
    "midlertidiglogreturn = 0\n",
    "antHandler = 0\n",
    "\n",
    "for index, row in logreturns.iterrows():\n",
    "\n",
    "    innhold = logreturns.loc[index, 'innhold']\n",
    "    innhold = innhold.split(',')\n",
    "    midlertidiglogreturn = 0\n",
    "\n",
    "    for col_name, cell_value in row.iteritems():\n",
    "\n",
    "        if (col_name in innhold) and (len(innhold) > 1):\n",
    "            midlertidiglogreturn += cell_value/(len(innhold)-1)\n",
    "\n",
    "        # Kjøp\n",
    "        if ((col_name in innhold) and (col_name not in prevInnhold)):\n",
    "            antHandler += 1\n",
    "\n",
    "        # Salg\n",
    "        if ((col_name not in innhold) and (col_name in prevInnhold)):\n",
    "            antHandler += 1\n",
    "\n",
    "    logreturnsUtenInnhold.loc[index, 'summerteLogreturns'] += midlertidiglogreturn\n",
    "    prevInnhold = innhold\n",
    "\n",
    "# Kummulerer logreturns, gjør de om til aritmetisk return\n",
    "logreturnsUtenInnhold['summerteLogreturns'] = np.exp(np.log(1 + logreturnsUtenInnhold['summerteLogreturns']).cumsum())\n",
    "logreturnsUtenInnhold.index = logreturnsUtenInnhold.index.strftime('%Y-%m-%d')\n",
    "\n",
    "# Fra odegardsjekk.ipynb, legger inn odegaard-verdier i en df og endrer index til datetime-format\n",
    "df = pd.read_csv('../data_til_analyse/daglige_tall_CAPM.csv', index_col='date')\n",
    "df.index = pd.to_datetime(df.index, format='%Y%m%d', errors='coerce')\n",
    "portfolioDF = pd.DataFrame(columns=['portfolio'], index=['date'])\n",
    "\n",
    "rows_to_concat = []\n",
    "for index, row in logreturnsUtenInnhold.iterrows():\n",
    "    if index in df.index:\n",
    "        indeks = index\n",
    "        new_row = {indeks: logreturnsUtenInnhold.loc[index,'summerteLogreturns']}\n",
    "        rows_to_concat.append(pd.DataFrame.from_dict(new_row, orient='index', columns=['portfolio']))\n",
    "\n",
    "if rows_to_concat:\n",
    "    portfolioDF = pd.concat([portfolioDF] + rows_to_concat)"
   ]
  },
  {
   "attachments": {},
   "cell_type": "markdown",
   "metadata": {},
   "source": [
    "Kombinerer CAPM-data med modellportefølje for å kunne kjøre regresjonsanalysen "
   ]
  },
  {
   "cell_type": "code",
   "execution_count": 6,
   "metadata": {},
   "outputs": [
    {
     "ename": "NameError",
     "evalue": "name 'portfolioDF' is not defined",
     "output_type": "error",
     "traceback": [
      "\u001b[1;31m---------------------------------------------------------------------------\u001b[0m",
      "\u001b[1;31mNameError\u001b[0m                                 Traceback (most recent call last)",
      "\u001b[1;32mc:\\Users\\ei100\\OneDrive\\Documents\\GitHub\\Bacheloroppgave\\analyse\\capm_enkel_analyse.ipynb Cell 7\u001b[0m in \u001b[0;36m<cell line: 1>\u001b[1;34m()\u001b[0m\n\u001b[1;32m----> <a href='vscode-notebook-cell:/c%3A/Users/ei100/OneDrive/Documents/GitHub/Bacheloroppgave/analyse/capm_enkel_analyse.ipynb#W6sZmlsZQ%3D%3D?line=0'>1</a>\u001b[0m portfolioDF\u001b[39m.\u001b[39mindex\u001b[39m.\u001b[39mname \u001b[39m=\u001b[39m \u001b[39m'\u001b[39m\u001b[39mdate\u001b[39m\u001b[39m'\u001b[39m\n\u001b[0;32m      <a href='vscode-notebook-cell:/c%3A/Users/ei100/OneDrive/Documents/GitHub/Bacheloroppgave/analyse/capm_enkel_analyse.ipynb#W6sZmlsZQ%3D%3D?line=1'>2</a>\u001b[0m portfolioDF \u001b[39m=\u001b[39m portfolioDF\u001b[39m.\u001b[39mdrop(\u001b[39m'\u001b[39m\u001b[39mdate\u001b[39m\u001b[39m'\u001b[39m)\n\u001b[0;32m      <a href='vscode-notebook-cell:/c%3A/Users/ei100/OneDrive/Documents/GitHub/Bacheloroppgave/analyse/capm_enkel_analyse.ipynb#W6sZmlsZQ%3D%3D?line=2'>3</a>\u001b[0m portfolioDF \u001b[39m=\u001b[39m portfolioDF\u001b[39m.\u001b[39mpct_change()\n",
      "\u001b[1;31mNameError\u001b[0m: name 'portfolioDF' is not defined"
     ]
    }
   ],
   "source": [
    "portfolioDF.index.name = 'date'\n",
    "portfolioDF = portfolioDF.drop('date')\n",
    "portfolioDF = portfolioDF.pct_change()\n",
    "portfolioDF = portfolioDF[SMALong:]\n",
    "df = pd.read_csv('./data_til_analyse/daglige_tall_CAPM.csv', index_col='date')\n",
    "\n",
    "\n",
    "df = df[['SMB', 'HML']]\n",
    "rf = pd.read_csv('./data_til_analyse/rf_daglig.csv', index_col='date')\n",
    "\n",
    "\n",
    "new_df = df.copy()\n",
    "new_df['rf'] = 0\n",
    "\n",
    "\n",
    "# Convert the index to datetime objects\n",
    "df.index = pd.to_datetime(df.index, format='%Y%m%d')\n",
    "rf.index = pd.to_datetime(rf.index, format='%Y-%m-%d')\n",
    "\n",
    "\n",
    "# Merge the two DataFrames based on the index\n",
    "df_mergedPricingFactors = pd.merge(df, rf, left_index=True, right_index=True, how='inner')\n",
    "merged_df = pd.merge(left=df_mergedPricingFactors, right=portfolioDF, left_index=True, right_index=True, how='inner')\n",
    "df_mergedPricingFactors.index = pd.to_datetime(df_mergedPricingFactors.index, format='%Y%m%d')\n",
    "\n",
    "\n",
    "\n",
    "for index, row in portfolioDF.iterrows():\n",
    "    if index in df_mergedPricingFactors.index:\n",
    "        new_row = {'SMB': df_mergedPricingFactors.loc[indeks, 'SMB'], 'HML': df_mergedPricingFactors.loc[indeks, 'HML'], 'rf(1d)':df_mergedPricingFactors.loc[indeks, 'rf(1d)'], 'portfolio':portfolioDF.loc[indeks, 'portfolio']}\n",
    "        new_df = pd.DataFrame(new_row, index=[index], columns=['SMB', 'HML', 'rf(1d)', 'portfolio'])\n",
    "        merged_df = pd.concat([merged_df, new_df])\n",
    "\n",
    "\n",
    "\n",
    "mr = pd.read_csv('./dataset/market_portfolios_daily.csv', index_col='date')\n",
    "mr = mr.drop('date')\n",
    "mr = mr['OSEAX']\n",
    "mr.index = pd.to_datetime(mr.index, format='%Y%m%d')\n",
    "merged_df = pd.merge(left=merged_df, right=mr, left_index=True, right_index=True, how='inner')\n",
    "\n",
    "\n",
    "\n",
    "try:\n",
    "    portfolioDF = portfolioDF.drop('2017-04-13')\n",
    "except KeyError:\n",
    "    print(\"\")\n",
    "try:\n",
    "    portfolioDF = portfolioDF.drop('2004-02-13')\n",
    "except KeyError:\n",
    "    print(\"\")\n",
    "try:\n",
    "    portfolioDF = portfolioDF.drop('2004-02-18')\n",
    "except KeyError:\n",
    "    print(\"\")\n",
    "try:\n",
    "    portfolioDF = portfolioDF.drop('2004-10-01')\n",
    "except KeyError:\n",
    "    print(\"\")\n",
    "try:\n",
    "    portfolioDF = portfolioDF.drop('2005-09-05')\n",
    "except KeyError:\n",
    "    print(\"\")\n",
    "try:\n",
    "    portfolioDF = portfolioDF.drop('2009-04-28')\n",
    "except KeyError:\n",
    "    print(\"\")\n",
    "try:\n",
    "    portfolioDF = portfolioDF.drop('2009-11-25')\n",
    "except KeyError:\n",
    "    print(\"\")\n",
    "    \n",
    "\n",
    "for index, row in portfolioDF.iterrows():\n",
    "    if index in mr.index:\n",
    "        new_row = {'OSEAX' : mr.loc[index], 'SMB': df_mergedPricingFactors.loc[index, 'SMB'], 'HML': df_mergedPricingFactors.loc[index, 'HML'], 'rf(1d)':df_mergedPricingFactors.loc[index, 'rf(1d)'], 'portfolio':portfolioDF.loc[index, 'portfolio']}\n",
    "        new_df = pd.DataFrame(new_row, index=[index], columns=['SMB', 'HML', 'rf(1d)', 'portfolio', 'OSEAX'])\n",
    "        merged_df = pd.concat([merged_df, new_df])\n",
    "merged_df = merged_df.rename(columns={'rf(1d)': 'rf'})"
   ]
  },
  {
   "attachments": {},
   "cell_type": "markdown",
   "metadata": {},
   "source": [
    "OLS regresjon, 3-faktor CAPM"
   ]
  },
  {
   "cell_type": "code",
   "execution_count": null,
   "metadata": {},
   "outputs": [],
   "source": [
    "merged_df['OSEAX'] = merged_df['OSEAX'].astype(float)\n",
    "merged_df['portfolio-rf'] = merged_df.portfolio - merged_df.rf\n",
    "merged_df['MRKT-rf'] = merged_df.OSEAX - merged_df.rf\n",
    "\n",
    "Y = merged_df['portfolio-rf']\n",
    "X = merged_df[['MRKT-rf', 'SMB', 'HML']]\n",
    "\n",
    "X_sm = sm.add_constant(X)\n",
    "\n",
    "model = sm.OLS(Y, X_sm)\n",
    "results = model.fit()\n",
    "results.summary()"
   ]
  },
  {
   "attachments": {},
   "cell_type": "markdown",
   "metadata": {},
   "source": [
    "Test av MLR assumptions"
   ]
  },
  {
   "cell_type": "code",
   "execution_count": null,
   "metadata": {},
   "outputs": [],
   "source": [
    "model = sm.OLS(Y, X).fit()\n",
    "fitted_values = model.fittedvalues\n",
    "X_new = pd.concat([X, fitted_values], axis=1)\n",
    "model_new = sm.OLS(Y, X_new).fit()\n",
    "predicted = model_new.predict(X_new)\n",
    "residuals = model_new.resid\n",
    "\n",
    "plt.scatter(fitted_values, residuals, label='Residualer', s=5)\n",
    "plt.axhline(y=0, color='Black', linestyle='-', label='Null-linje')\n",
    "\n",
    "# fit a first-order polynomial (line) to the data points\n",
    "x = fitted_values\n",
    "y = residuals\n",
    "coefficients = np.polyfit(x, y, 1)\n",
    "line = np.polyval(coefficients, x)\n",
    "\n",
    "# plot the regression line on top of the scatter plot\n",
    "plt.plot(x, line, color='r', label='Regresjons linje')\n",
    "\n",
    "plt.xlabel('Predikerte verdier')\n",
    "plt.ylabel('Residualer')\n",
    "plt.title('Residualer mot predikerte verdier 2015-2022')\n",
    "plt.legend()\n",
    "plt.show()"
   ]
  },
  {
   "cell_type": "code",
   "execution_count": null,
   "metadata": {},
   "outputs": [],
   "source": [
    "plt.hist(residuals, bins=100, density=True, alpha=0.5, color='blue')\n",
    "x = np.linspace(residuals.min(), residuals.max(), 100)\n",
    "mu, std = np.mean(residuals), np.std(residuals)\n",
    "pdf = stats.norm.pdf(x, mu, std)\n",
    "\n",
    "plt.plot(x, pdf, color='red')\n",
    "plt.xlabel('Residualer')\n",
    "plt.ylabel('Frekvens')\n",
    "plt.title('Fordeling av residualene 2010-2015')\n",
    "plt.show()\n"
   ]
  },
  {
   "cell_type": "code",
   "execution_count": null,
   "metadata": {},
   "outputs": [],
   "source": [
    "merged_df = merged_df[['portfolio-rf', 'MRKT-rf', 'SMB', 'HML']]\n",
    "merged_df.corr()"
   ]
  },
  {
   "cell_type": "code",
   "execution_count": null,
   "metadata": {},
   "outputs": [],
   "source": [
    "Y = merged_df['MRKT-rf']\n",
    "X = merged_df[['SMB', 'HML']]\n",
    "\n",
    "X_sm = sm.add_constant(X)\n",
    "\n",
    "model = sm.OLS(Y, X_sm)\n",
    "results = model.fit()\n",
    "vif = 1/(1-results.rsquared)\n",
    "\n",
    "print('VIF:', vif)"
   ]
  },
  {
   "cell_type": "code",
   "execution_count": null,
   "metadata": {},
   "outputs": [],
   "source": [
    "Y = merged_df['SMB']\n",
    "X = merged_df[['MRKT-rf', 'HML']]\n",
    "\n",
    "X_sm = sm.add_constant(X)\n",
    "\n",
    "model = sm.OLS(Y, X_sm)\n",
    "results = model.fit()\n",
    "vif = 1/(1-results.rsquared)\n",
    "\n",
    "print('VIF:', vif)"
   ]
  },
  {
   "cell_type": "code",
   "execution_count": null,
   "metadata": {},
   "outputs": [],
   "source": [
    "Y = merged_df['HML']\n",
    "X = merged_df[['MRKT-rf', 'SMB']]\n",
    "\n",
    "X_sm = sm.add_constant(X)\n",
    "\n",
    "model = sm.OLS(Y, X_sm)\n",
    "results = model.fit()\n",
    "vif = 1/(1-results.rsquared)\n",
    "\n",
    "print('VIF:', vif)"
   ]
  }
 ],
 "metadata": {
  "kernelspec": {
   "display_name": "Python 3",
   "language": "python",
   "name": "python3"
  },
  "language_info": {
   "codemirror_mode": {
    "name": "ipython",
    "version": 3
   },
   "file_extension": ".py",
   "mimetype": "text/x-python",
   "name": "python",
   "nbconvert_exporter": "python",
   "pygments_lexer": "ipython3",
   "version": "3.10.5"
  },
  "orig_nbformat": 4
 },
 "nbformat": 4,
 "nbformat_minor": 2
}
