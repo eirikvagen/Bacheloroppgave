{
 "cells": [
  {
   "cell_type": "code",
   "execution_count": null,
   "metadata": {},
   "outputs": [],
   "source": [
    "import yfinance as yf\n",
    "import matplotlib.pyplot as plt\n",
    "import pandas as pd"
   ]
  },
  {
   "attachments": {},
   "cell_type": "markdown",
   "metadata": {},
   "source": [
    "Henter prishistorikk"
   ]
  },
  {
   "cell_type": "code",
   "execution_count": null,
   "metadata": {},
   "outputs": [],
   "source": [
    "tickersobx = pd.read_html('https://no.wikipedia.org/wiki/OSEBX-indeksen')[0]\n",
    "tickersobx = tickersobx['Ticker'].to_list()\n",
    "tickersobx = [i.replace('OSE: ','')for i in tickersobx]\n",
    "tickersobx = [i + ('.OL')for i in tickersobx]\n",
    "tickersobx = [i.replace('TIETOO.OL','TIETO.OL')for i in tickersobx]\n",
    "tickersobx.remove('FJORD.OL')\n",
    "tickersobx.remove('NOFI.OL')\n",
    "tickersobx.remove('SRBANK.OL')\n",
    "print(tickersobx)"
   ]
  },
  {
   "attachments": {},
   "cell_type": "markdown",
   "metadata": {},
   "source": [
    "Visualisering av kjøps og salgssignal"
   ]
  },
  {
   "cell_type": "code",
   "execution_count": null,
   "metadata": {},
   "outputs": [],
   "source": [
    "stock = \"AKRBP.OL\"\n",
    "\n",
    "data = yf.download(stock, start='2010-01-01', end='2015-01-01')\n",
    "data['short_term_ma'] = data['Adj Close'].rolling(window=50).mean() # Calculate the 50-day moving average\n",
    "data['long_term_ma'] = data['Adj Close'].rolling(window=200).mean() # Calculate the 200-day moving average\n",
    "\n",
    "data[['Adj Close', 'short_term_ma', 'long_term_ma']].plot(figsize=(10,5))\n",
    "plt.title(stock + ' Justert stengepris med 50 dager og 200 dager GS')\n",
    "plt.xlabel('År')\n",
    "plt.ylabel('Pris')\n",
    "plt.legend(['Justert stengepris','50 dager GS', '200 dager GS'])\n",
    "plt.show()"
   ]
  }
 ],
 "metadata": {
  "language_info": {
   "name": "python"
  },
  "orig_nbformat": 4
 },
 "nbformat": 4,
 "nbformat_minor": 2
}
